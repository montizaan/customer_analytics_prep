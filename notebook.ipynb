{
 "cells": [
  {
   "source": [
    "A common problem when creating models to generate business value from data is that the datasets can be so large that it can take days for the model to generate predictions. Ensuring that your dataset is stored as efficiently as possible is crucial for allowing these models to run on a more reasonable timescale without having to reduce the size of the dataset.\n",
    "\n",
    "You've been hired by a major online data science training provider called *Training Data Ltd.* to clean up one of their largest customer datasets. This dataset will eventually be used to predict whether their students are looking for a new job or not, information that they will then use to direct them to prospective recruiters.\n",
    "\n",
    "You've been given access to `customer_train.csv`, which is a subset of their entire customer dataset, so you can create a proof-of-concept of a much more efficient storage solution. The dataset contains anonymized student information, and whether they were looking for a new job or not during training:\n",
    "\n",
    "| Column                   | Description                                                                      |\n",
    "|--------------------------|----------------------------------------------------------------------------------|\n",
    "| `student_id`             | A unique ID for each student.                                                    |\n",
    "| `city`                   | A code for the city the student lives in.                                        |\n",
    "| `city_development_index` | A scaled development index for the city.                                         |\n",
    "| `gender`                 | The student's gender.                                                            |\n",
    "| `relevant_experience`    | An indicator of the student's work relevant experience.                          |\n",
    "| `enrolled_university`    | The type of university course enrolled in (if any).                              |\n",
    "| `education_level`        | The student's education level.                                                   |\n",
    "| `major_discipline`       | The educational discipline of the student.                                       |\n",
    "| `experience`             | The student's total work experience (in years).                                  |\n",
    "| `company_size`           | The number of employees at the student's current employer.                       |\n",
    "| `last_new_job`           | The number of years between the student's current and previous jobs.             |\n",
    "| `training_hours`         | The number of hours of training completed.                                       |\n",
    "| `job_change`             | An indicator of whether the student is looking for a new job (`1`) or not (`0`). |"
   ],
   "metadata": {},
   "id": "a09e6d54-bf3f-4632-b299-bd49d5c80d5f",
   "cell_type": "markdown"
  },
  {
   "source": [
    "# Importing libraries & files\n",
    "import pandas as pd\n",
    "import numpy as np\n",
    "\n",
    "ds_jobs = pd.read_csv(\"data/customer_train.csv\")"
   ],
   "metadata": {
    "executionCancelledAt": null,
    "executionTime": 38,
    "lastExecutedAt": 1711040380470,
    "lastScheduledRunId": null,
    "lastSuccessfullyExecutedCode": "# Importing libraries & files\nimport pandas as pd\nimport numpy as np\n\nds_jobs = pd.read_csv(\"customer_train.csv\")",
    "ExecuteTime": {
     "end_time": "2024-03-21T17:29:39.895618Z",
     "start_time": "2024-03-21T17:29:38.372490Z"
    }
   },
   "id": "7dacda55-041c-4985-87ee-af451dcd6d8c",
   "cell_type": "code",
   "execution_count": 1,
   "outputs": []
  },
  {
   "source": [
    "## Exploring dataset\n",
    "* Exploring first rows\n",
    "* Check memory usage\n",
    "* Check dtypes"
   ],
   "metadata": {},
   "cell_type": "markdown",
   "id": "06ef61f8-e9fd-40c7-8312-cfa964ada8e3"
  },
  {
   "source": [
    "ds_jobs.head()"
   ],
   "metadata": {
    "executionCancelledAt": null,
    "executionTime": 62,
    "lastExecutedAt": 1711040380532,
    "lastScheduledRunId": null,
    "lastSuccessfullyExecutedCode": "ds_jobs.head()",
    "outputsMetadata": {
     "0": {
      "height": 213,
      "type": "dataFrame"
     }
    },
    "ExecuteTime": {
     "end_time": "2024-03-21T17:29:39.959614Z",
     "start_time": "2024-03-21T17:29:39.899616Z"
    }
   },
   "cell_type": "code",
   "id": "1bde47af-0b42-4260-9aa0-bd74aae4ff84",
   "outputs": [
    {
     "data": {
      "text/plain": "   student_id      city  city_development_index gender  \\\n0        8949  city_103                   0.920   Male   \n1       29725   city_40                   0.776   Male   \n2       11561   city_21                   0.624    NaN   \n3       33241  city_115                   0.789    NaN   \n4         666  city_162                   0.767   Male   \n\n       relevant_experience enrolled_university education_level  \\\n0  Has relevant experience       no_enrollment        Graduate   \n1   No relevant experience       no_enrollment        Graduate   \n2   No relevant experience    Full time course        Graduate   \n3   No relevant experience                 NaN        Graduate   \n4  Has relevant experience       no_enrollment         Masters   \n\n  major_discipline experience company_size    company_type last_new_job  \\\n0             STEM        >20          NaN             NaN            1   \n1             STEM         15        50-99         Pvt Ltd           >4   \n2             STEM          5          NaN             NaN        never   \n3  Business Degree         <1          NaN         Pvt Ltd        never   \n4             STEM        >20        50-99  Funded Startup            4   \n\n   training_hours  job_change  \n0              36           1  \n1              47           0  \n2              83           0  \n3              52           1  \n4               8           0  ",
      "text/html": "<div>\n<style scoped>\n    .dataframe tbody tr th:only-of-type {\n        vertical-align: middle;\n    }\n\n    .dataframe tbody tr th {\n        vertical-align: top;\n    }\n\n    .dataframe thead th {\n        text-align: right;\n    }\n</style>\n<table border=\"1\" class=\"dataframe\">\n  <thead>\n    <tr style=\"text-align: right;\">\n      <th></th>\n      <th>student_id</th>\n      <th>city</th>\n      <th>city_development_index</th>\n      <th>gender</th>\n      <th>relevant_experience</th>\n      <th>enrolled_university</th>\n      <th>education_level</th>\n      <th>major_discipline</th>\n      <th>experience</th>\n      <th>company_size</th>\n      <th>company_type</th>\n      <th>last_new_job</th>\n      <th>training_hours</th>\n      <th>job_change</th>\n    </tr>\n  </thead>\n  <tbody>\n    <tr>\n      <th>0</th>\n      <td>8949</td>\n      <td>city_103</td>\n      <td>0.920</td>\n      <td>Male</td>\n      <td>Has relevant experience</td>\n      <td>no_enrollment</td>\n      <td>Graduate</td>\n      <td>STEM</td>\n      <td>&gt;20</td>\n      <td>NaN</td>\n      <td>NaN</td>\n      <td>1</td>\n      <td>36</td>\n      <td>1</td>\n    </tr>\n    <tr>\n      <th>1</th>\n      <td>29725</td>\n      <td>city_40</td>\n      <td>0.776</td>\n      <td>Male</td>\n      <td>No relevant experience</td>\n      <td>no_enrollment</td>\n      <td>Graduate</td>\n      <td>STEM</td>\n      <td>15</td>\n      <td>50-99</td>\n      <td>Pvt Ltd</td>\n      <td>&gt;4</td>\n      <td>47</td>\n      <td>0</td>\n    </tr>\n    <tr>\n      <th>2</th>\n      <td>11561</td>\n      <td>city_21</td>\n      <td>0.624</td>\n      <td>NaN</td>\n      <td>No relevant experience</td>\n      <td>Full time course</td>\n      <td>Graduate</td>\n      <td>STEM</td>\n      <td>5</td>\n      <td>NaN</td>\n      <td>NaN</td>\n      <td>never</td>\n      <td>83</td>\n      <td>0</td>\n    </tr>\n    <tr>\n      <th>3</th>\n      <td>33241</td>\n      <td>city_115</td>\n      <td>0.789</td>\n      <td>NaN</td>\n      <td>No relevant experience</td>\n      <td>NaN</td>\n      <td>Graduate</td>\n      <td>Business Degree</td>\n      <td>&lt;1</td>\n      <td>NaN</td>\n      <td>Pvt Ltd</td>\n      <td>never</td>\n      <td>52</td>\n      <td>1</td>\n    </tr>\n    <tr>\n      <th>4</th>\n      <td>666</td>\n      <td>city_162</td>\n      <td>0.767</td>\n      <td>Male</td>\n      <td>Has relevant experience</td>\n      <td>no_enrollment</td>\n      <td>Masters</td>\n      <td>STEM</td>\n      <td>&gt;20</td>\n      <td>50-99</td>\n      <td>Funded Startup</td>\n      <td>4</td>\n      <td>8</td>\n      <td>0</td>\n    </tr>\n  </tbody>\n</table>\n</div>"
     },
     "execution_count": 2,
     "metadata": {},
     "output_type": "execute_result"
    }
   ],
   "execution_count": 2
  },
  {
   "source": [
    "print(ds_jobs.memory_usage())\n",
    "print(\"\")\n",
    "print(f\"Total used memory: {np.sum(ds_jobs.memory_usage())}\")"
   ],
   "metadata": {
    "executionCancelledAt": null,
    "executionTime": 51,
    "lastExecutedAt": 1711040380583,
    "lastScheduledRunId": null,
    "lastSuccessfullyExecutedCode": "print(ds_jobs.memory_usage())\nprint(\"\")\nprint(f\"Total used memory: {ds_jobs.memory_usage().sum()}\")",
    "outputsMetadata": {
     "0": {
      "height": 377,
      "type": "stream"
     }
    },
    "ExecuteTime": {
     "end_time": "2024-03-21T17:29:39.991153Z",
     "start_time": "2024-03-21T17:29:39.963617Z"
    }
   },
   "cell_type": "code",
   "id": "b80a0f8f-c502-4c34-aabd-10ba1bf3e093",
   "outputs": [
    {
     "name": "stdout",
     "output_type": "stream",
     "text": [
      "Index                        128\n",
      "student_id                153264\n",
      "city                      153264\n",
      "city_development_index    153264\n",
      "gender                    153264\n",
      "relevant_experience       153264\n",
      "enrolled_university       153264\n",
      "education_level           153264\n",
      "major_discipline          153264\n",
      "experience                153264\n",
      "company_size              153264\n",
      "company_type              153264\n",
      "last_new_job              153264\n",
      "training_hours            153264\n",
      "job_change                153264\n",
      "dtype: int64\n",
      "\n",
      "Total used memory: 2145824\n"
     ]
    }
   ],
   "execution_count": 3
  },
  {
   "source": [
    "ds_jobs.dtypes"
   ],
   "metadata": {
    "executionCancelledAt": null,
    "executionTime": 48,
    "lastExecutedAt": 1711040380631,
    "lastScheduledRunId": null,
    "lastSuccessfullyExecutedCode": "ds_jobs.dtypes",
    "ExecuteTime": {
     "end_time": "2024-03-21T17:29:40.022153Z",
     "start_time": "2024-03-21T17:29:39.996154Z"
    }
   },
   "cell_type": "code",
   "id": "4a79a8db-8daf-48e8-96a2-849728eb576c",
   "outputs": [
    {
     "data": {
      "text/plain": "student_id                  int64\ncity                       object\ncity_development_index    float64\ngender                     object\nrelevant_experience        object\nenrolled_university        object\neducation_level            object\nmajor_discipline           object\nexperience                 object\ncompany_size               object\ncompany_type               object\nlast_new_job               object\ntraining_hours              int64\njob_change                  int64\ndtype: object"
     },
     "execution_count": 4,
     "metadata": {},
     "output_type": "execute_result"
    }
   ],
   "execution_count": 4
  },
  {
   "source": [
    "# Shape of the dataset\n",
    "ds_jobs.shape"
   ],
   "metadata": {
    "executionCancelledAt": null,
    "executionTime": 49,
    "lastExecutedAt": 1711040380680,
    "lastScheduledRunId": null,
    "lastSuccessfullyExecutedCode": "# Shape of the dataset\nds_jobs.shape",
    "ExecuteTime": {
     "end_time": "2024-03-21T17:29:40.053163Z",
     "start_time": "2024-03-21T17:29:40.030155Z"
    }
   },
   "cell_type": "code",
   "id": "74a64a11-32c9-4b5a-bc79-9cabc2894da1",
   "outputs": [
    {
     "data": {
      "text/plain": "(19158, 14)"
     },
     "execution_count": 5,
     "metadata": {},
     "output_type": "execute_result"
    }
   ],
   "execution_count": 5
  },
  {
   "source": [
    "## Converting types\n",
    "* Columns containing integer values should be converted to `int32`\n",
    "* Columns containing float values should be converted to `float16`\n",
    "* Columns containing nominal categorical data should be converted to `category`\n",
    "* Columns containing ordinal categorical data should be converted to `category` with order"
   ],
   "metadata": {},
   "cell_type": "markdown",
   "id": "e03901a7-99ec-427c-a15a-490b60e75c34"
  },
  {
   "source": [
    "ds_jobs_clean = ds_jobs.copy()\n",
    "\n",
    "# Creating a dictionary for key-value pairs for assigning correct value type to every column\n",
    "column_datatype = {\n",
    "    \"student_id\":\"int32\",\n",
    "    \"city\":\"category\",\n",
    "    \"city_development_index\":\"float16\",\n",
    "    \"gender\":\"category\",\n",
    "    \"relevant_experience\":\"category\",\n",
    "    \"enrolled_university\":\"category\",\n",
    "    \"education_level\":\"category\",\n",
    "    \"major_discipline\":\"category\",\n",
    "    \"experience\":\"category\",\n",
    "    \"company_size\":\"category\",\n",
    "    \"company_type\":\"category\",\n",
    "    \"last_new_job\":\"category\",\n",
    "    \"training_hours\":\"int32\",\n",
    "    \"job_change\":\"int32\"\n",
    "}\n",
    "\n",
    "# Assigning every column with the correct type\n",
    "for col, data_type in column_datatype.items():\n",
    "    ds_jobs_clean[col] = ds_jobs_clean[col].astype(data_type)\n",
    "    \n",
    "# Verify if all columns are assigned the correct value type\n",
    "ds_jobs_clean.dtypes"
   ],
   "metadata": {
    "executionCancelledAt": null,
    "executionTime": 56,
    "lastExecutedAt": 1711040380736,
    "lastScheduledRunId": null,
    "lastSuccessfullyExecutedCode": "ds_jobs_clean = ds_jobs.copy()\n\n# Creating a dictionary for key-value pairs for assigning correct value type to every column\ncolumn_datatype = {\n    \"student_id\":\"int32\",\n    \"city\":\"category\",\n    \"city_development_index\":\"float16\",\n    \"gender\":\"category\",\n    \"relevant_experience\":\"category\",\n    \"enrolled_university\":\"category\",\n    \"education_level\":\"category\",\n    \"major_discipline\":\"category\",\n    \"experience\":\"category\",\n    \"company_size\":\"category\",\n    \"company_type\":\"category\",\n    \"last_new_job\":\"category\",\n    \"training_hours\":\"int32\",\n    \"job_change\":\"int32\"\n}\n\n# Assigning every column with the correct type\nfor col, type in column_datatype.items():\n    ds_jobs_clean[col] = ds_jobs_clean[col].astype(type)\n    \n# Verify if all columns are assigned the correct value type\nds_jobs_clean.dtypes",
    "ExecuteTime": {
     "end_time": "2024-03-21T17:29:40.147704Z",
     "start_time": "2024-03-21T17:29:40.057155Z"
    }
   },
   "cell_type": "code",
   "id": "b4857237-8980-4ccb-b9da-5804c25781c2",
   "outputs": [
    {
     "data": {
      "text/plain": "student_id                   int32\ncity                      category\ncity_development_index     float16\ngender                    category\nrelevant_experience       category\nenrolled_university       category\neducation_level           category\nmajor_discipline          category\nexperience                category\ncompany_size              category\ncompany_type              category\nlast_new_job              category\ntraining_hours               int32\njob_change                   int32\ndtype: object"
     },
     "execution_count": 6,
     "metadata": {},
     "output_type": "execute_result"
    }
   ],
   "execution_count": 6
  },
  {
   "source": [
    "## Setting ordinal columns\n",
    "* Create a dictionary containing the ordinal column and the category order\n",
    "* Assign the appropriate order per column\n",
    "* Print results for verification"
   ],
   "metadata": {},
   "cell_type": "markdown",
   "id": "cb3c48d3-f0a6-4950-bf1f-9b68b5893e49"
  },
  {
   "source": [
    "# Create a dictionary containing columns and order of entries\n",
    "ordinal_entries = {\n",
    "    \"enrolled_university\":[\"no_enrollment\", \"Part time course\", \"Full time course\"],\n",
    "    \"education_level\":[\"Primary School\", \"High School\", \"Graduate\", \"Masters\", \"Phd\"],\n",
    "    \"relevant_experience\":[\"No relevant experience\", \"Has relevant experience\"],\n",
    "    \"experience\":[\"<1\"] + list(map(str, range(1, 21))) + [\">20\"],\n",
    "    \"company_size\":[\"<10\", \"10-49\", \"50-99\", \"100-499\", \"500-999\", \"1000-4999\", \"5000-9999\", \"10000+\"],\n",
    "    \"last_new_job\":[\"never\", \"1\", \"2\", \"3\", \"4\", \">4\"]\n",
    "}\n",
    "\n",
    "# Assigning every ordinal column with the correct ordered entries\n",
    "for col, categories in ordinal_entries.items():\n",
    "    # Set the appropriate ranking\n",
    "    ds_jobs_clean[col] = ds_jobs_clean[col].cat.reorder_categories(\n",
    "        new_categories = categories,\n",
    "        ordered = True\n",
    "    )\n",
    "    # Print results for verification\n",
    "    print(ds_jobs_clean[col])"
   ],
   "metadata": {
    "executionCancelledAt": null,
    "executionTime": 52,
    "lastExecutedAt": 1711040380836,
    "lastScheduledRunId": null,
    "lastSuccessfullyExecutedCode": "# Create a dictionary containing columns and order of entries\nordinalcolumn_orderedentries = {\n    \"enrolled_university\":[\"no_enrollment\", \"Part time course\", \"Full time course\"],\n    \"education_level\":[\"Primary School\", \"High School\", \"Graduate\", \"Masters\", \"Phd\"],\n    \"relevant_experience\":[\"No relevant experience\", \"Has relevant experience\"],\n    \"experience\":[\"<1\"] + list(map(str, range(1, 21))) + [\">20\"],\n    \"company_size\":[\"<10\", \"10-49\", \"50-99\", \"100-499\", \"500-999\", \"1000-4999\", \"5000-9999\", \"10000+\"],\n    \"last_new_job\":[\"never\", \"1\", \"2\", \"3\", \"4\", \">4\"]\n}\n\n# Assigning every ordinal column with the correct ordered entries\nfor col, categories in ordinalcolumn_orderedentries.items():\n    # Set the appropriate ranking\n    ds_jobs_clean[col] = ds_jobs_clean[col].cat.reorder_categories(\n        new_categories = categories,\n        ordered = True\n    )\n    # Print results for verification\n    print(ds_jobs_clean[col])",
    "outputsMetadata": {
     "0": {
      "height": 616,
      "type": "stream"
     }
    },
    "ExecuteTime": {
     "end_time": "2024-03-21T17:29:40.226293Z",
     "start_time": "2024-03-21T17:29:40.155705Z"
    }
   },
   "cell_type": "code",
   "id": "4c70648a-65c7-4448-b64b-ca30f9595c86",
   "outputs": [
    {
     "name": "stdout",
     "output_type": "stream",
     "text": [
      "0           no_enrollment\n",
      "1           no_enrollment\n",
      "2        Full time course\n",
      "3                     NaN\n",
      "4           no_enrollment\n",
      "               ...       \n",
      "19153       no_enrollment\n",
      "19154       no_enrollment\n",
      "19155       no_enrollment\n",
      "19156       no_enrollment\n",
      "19157       no_enrollment\n",
      "Name: enrolled_university, Length: 19158, dtype: category\n",
      "Categories (3, object): ['no_enrollment' < 'Part time course' < 'Full time course']\n",
      "0              Graduate\n",
      "1              Graduate\n",
      "2              Graduate\n",
      "3              Graduate\n",
      "4               Masters\n",
      "              ...      \n",
      "19153          Graduate\n",
      "19154          Graduate\n",
      "19155          Graduate\n",
      "19156       High School\n",
      "19157    Primary School\n",
      "Name: education_level, Length: 19158, dtype: category\n",
      "Categories (5, object): ['Primary School' < 'High School' < 'Graduate' < 'Masters' < 'Phd']\n",
      "0        Has relevant experience\n",
      "1         No relevant experience\n",
      "2         No relevant experience\n",
      "3         No relevant experience\n",
      "4        Has relevant experience\n",
      "                  ...           \n",
      "19153     No relevant experience\n",
      "19154    Has relevant experience\n",
      "19155    Has relevant experience\n",
      "19156    Has relevant experience\n",
      "19157     No relevant experience\n",
      "Name: relevant_experience, Length: 19158, dtype: category\n",
      "Categories (2, object): ['No relevant experience' < 'Has relevant experience']\n",
      "0        >20\n",
      "1         15\n",
      "2          5\n",
      "3         <1\n",
      "4        >20\n",
      "        ... \n",
      "19153     14\n",
      "19154     14\n",
      "19155    >20\n",
      "19156     <1\n",
      "19157      2\n",
      "Name: experience, Length: 19158, dtype: category\n",
      "Categories (22, object): ['<1' < '1' < '2' < '3' ... '18' < '19' < '20' < '>20']\n",
      "0            NaN\n",
      "1          50-99\n",
      "2            NaN\n",
      "3            NaN\n",
      "4          50-99\n",
      "          ...   \n",
      "19153        NaN\n",
      "19154        NaN\n",
      "19155      50-99\n",
      "19156    500-999\n",
      "19157        NaN\n",
      "Name: company_size, Length: 19158, dtype: category\n",
      "Categories (8, object): ['<10' < '10-49' < '50-99' < '100-499' < '500-999' < '1000-4999' < '5000-9999' < '10000+']\n",
      "0            1\n",
      "1           >4\n",
      "2        never\n",
      "3        never\n",
      "4            4\n",
      "         ...  \n",
      "19153        1\n",
      "19154        4\n",
      "19155        4\n",
      "19156        2\n",
      "19157        1\n",
      "Name: last_new_job, Length: 19158, dtype: category\n",
      "Categories (6, object): ['never' < '1' < '2' < '3' < '4' < '>4']\n"
     ]
    }
   ],
   "execution_count": 7
  },
  {
   "source": [
    "## Filtering the dataset for export\n",
    "* Check memory usage of dataset\n",
    "* Filter for: \n",
    "    1. Students with 10 years or more experience\n",
    "    2. Experience at companies with at least 1000 employees\n",
    "* Check if results are correct"
   ],
   "metadata": {},
   "cell_type": "markdown",
   "id": "c3ae5971-4834-425d-abda-d0a9e175b112"
  },
  {
   "source": [
    "# Check memory usage after cleaning\n",
    "print(ds_jobs_clean.memory_usage())\n",
    "print(\"\")\n",
    "print(f\"Total used memory: {np.sum(ds_jobs_clean.memory_usage())}\")\n",
    "print(f\"Assigning new data types saved: {np.sum(ds_jobs.memory_usage()) - np.sum(ds_jobs_clean.memory_usage())}\")"
   ],
   "metadata": {
    "executionCancelledAt": null,
    "executionTime": 59,
    "lastExecutedAt": 1711040380895,
    "lastScheduledRunId": null,
    "lastSuccessfullyExecutedCode": "# Check memory usage after cleaning\nprint(ds_jobs_clean.memory_usage())\nprint(\"\")\nprint(f\"Total used memory: {ds_jobs_clean.memory_usage().sum()}\")\nprint(f\"Assigning new data types saved: {ds_jobs.memory_usage().sum()- ds_jobs_clean.memory_usage().sum()}\")",
    "outputsMetadata": {
     "0": {
      "height": 397,
      "type": "stream"
     }
    },
    "ExecuteTime": {
     "end_time": "2024-03-21T17:29:40.257286Z",
     "start_time": "2024-03-21T17:29:40.232287Z"
    }
   },
   "cell_type": "code",
   "id": "3f1091c9-2c84-4e3f-aadc-e951a920c1f7",
   "outputs": [
    {
     "name": "stdout",
     "output_type": "stream",
     "text": [
      "Index                       128\n",
      "student_id                76632\n",
      "city                      24310\n",
      "city_development_index    38316\n",
      "gender                    19290\n",
      "relevant_experience       19282\n",
      "enrolled_university       19290\n",
      "education_level           19370\n",
      "major_discipline          19378\n",
      "experience                19890\n",
      "company_size              19522\n",
      "company_type              19378\n",
      "last_new_job              19378\n",
      "training_hours            76632\n",
      "job_change                76632\n",
      "dtype: int64\n",
      "\n",
      "Total used memory: 467428\n",
      "Assigning new data types saved: 1678396\n"
     ]
    }
   ],
   "execution_count": 8
  },
  {
   "source": [
    "# Filter for:\n",
    "#   Students with 10+ years experience\n",
    "#   Company size of 1000+ employees\n",
    "ds_jobs_clean = ds_jobs_clean[(ds_jobs_clean[\"experience\"] >= \"10\") & (ds_jobs_clean[\"company_size\"] >= \"1000-4999\")]"
   ],
   "metadata": {
    "executionCancelledAt": null,
    "executionTime": 48,
    "lastExecutedAt": 1711040380943,
    "lastScheduledRunId": null,
    "lastSuccessfullyExecutedCode": "# Filter for:\n#   Students with 10+ years experience\n#   Company size of 1000+ employees\nds_jobs_clean = ds_jobs_clean[(ds_jobs_clean[\"experience\"] >= \"10\") & (ds_jobs_clean[\"company_size\"] >= \"1000-4999\")]",
    "ExecuteTime": {
     "end_time": "2024-03-21T17:29:40.288827Z",
     "start_time": "2024-03-21T17:29:40.266289Z"
    }
   },
   "cell_type": "code",
   "id": "71b51265-de90-4666-a017-103a3a38b0df",
   "outputs": [],
   "execution_count": 9
  },
  {
   "source": [
    "# Verify results\n",
    "print(ds_jobs_clean.head())\n",
    "print(f\"Size of the dataset: {ds_jobs_clean.shape}\")"
   ],
   "metadata": {
    "executionCancelledAt": null,
    "executionTime": 68,
    "lastExecutedAt": 1711040381011,
    "lastScheduledRunId": null,
    "lastSuccessfullyExecutedCode": "# Verify results\nprint(ds_jobs_clean.head())\nprint(f\"Size of the dataset: {ds_jobs_clean.shape}\")",
    "outputsMetadata": {
     "0": {
      "height": 197,
      "type": "stream"
     }
    },
    "ExecuteTime": {
     "end_time": "2024-03-21T17:29:40.334828Z",
     "start_time": "2024-03-21T17:29:40.292829Z"
    }
   },
   "cell_type": "code",
   "id": "c1e73563-8552-4a46-83a4-b0a94ba2a9cb",
   "outputs": [
    {
     "name": "stdout",
     "output_type": "stream",
     "text": [
      "    student_id      city  city_development_index  gender  \\\n",
      "9          699  city_103                0.919922     NaN   \n",
      "12       25619   city_61                0.913086    Male   \n",
      "31       22293  city_103                0.919922    Male   \n",
      "34       26494   city_16                0.910156    Male   \n",
      "40        2547  city_114                0.925781  Female   \n",
      "\n",
      "        relevant_experience enrolled_university education_level  \\\n",
      "9   Has relevant experience       no_enrollment        Graduate   \n",
      "12  Has relevant experience       no_enrollment        Graduate   \n",
      "31  Has relevant experience    Part time course        Graduate   \n",
      "34  Has relevant experience       no_enrollment        Graduate   \n",
      "40  Has relevant experience    Full time course         Masters   \n",
      "\n",
      "   major_discipline experience company_size   company_type last_new_job  \\\n",
      "9              STEM         17       10000+        Pvt Ltd           >4   \n",
      "12             STEM        >20    1000-4999        Pvt Ltd            3   \n",
      "31             STEM         19    5000-9999        Pvt Ltd           >4   \n",
      "34  Business Degree         12    5000-9999        Pvt Ltd            3   \n",
      "40             STEM         16    1000-4999  Public Sector            2   \n",
      "\n",
      "    training_hours  job_change  \n",
      "9              123           0  \n",
      "12              23           0  \n",
      "31             141           0  \n",
      "34             145           0  \n",
      "40              14           0  \n",
      "Size of the dataset: (2201, 14)\n"
     ]
    }
   ],
   "execution_count": 10
  }
 ],
 "metadata": {
  "language_info": {
   "name": "python",
   "version": "3.8.10",
   "mimetype": "text/x-python",
   "codemirror_mode": {
    "name": "ipython",
    "version": 3
   },
   "pygments_lexer": "ipython3",
   "nbconvert_exporter": "python",
   "file_extension": ".py"
  },
  "kernelspec": {
   "display_name": "Python 3 (ipykernel)",
   "language": "python",
   "name": "python3"
  },
  "editor": "DataCamp Workspace"
 },
 "nbformat": 4,
 "nbformat_minor": 5
}
